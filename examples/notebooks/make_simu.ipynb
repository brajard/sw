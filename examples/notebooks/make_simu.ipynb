{
 "cells": [
  {
   "cell_type": "markdown",
   "metadata": {},
   "source": [
    "# Script to make simu\n",
    "This script run the model from a restart to produce a reference simulation for training or testing the NN."
   ]
  },
  {
   "cell_type": "code",
   "execution_count": null,
   "metadata": {
    "scrolled": false
   },
   "outputs": [],
   "source": [
    "## Import package\n",
    "from neuralsw.model.shalw import SWmodel\n",
    "from neuralsw.model.datatools import TimeSeq \n",
    "import neuralsw\n",
    "import numpy as np\n",
    "import xarray as xr\n",
    "import os\n",
    "from tqdm import tqdm\n",
    "import matplotlib.pyplot as plt\n",
    "%matplotlib notebook\n"
   ]
  },
  {
   "cell_type": "code",
   "execution_count": null,
   "metadata": {},
   "outputs": [],
   "source": [
    "## Specify the output\n",
    "PLOT = True #if plot is wanted\n",
    "\n",
    "#rootdir\n",
    "rootdir = os.path.realpath(\\\n",
    "\tos.path.join(os.getcwd(),'../..'))\n",
    "\n",
    "#directory to store the data\n",
    "datadir = os.path.realpath(os.path.join(rootdir,'data'))\n",
    "\n",
    "\n",
    "#Duration of the integration\n",
    "endtime = 48*30*12*40 #40 years (can be override by option in allsets)\n",
    "\n",
    "#save frequency\n",
    "freq = 48*30 #each month (can be overrieded by option in allsets)\n",
    "\n",
    "#number of successive time steps to save at a given time\n",
    "nseq = 2\n",
    "\n",
    "#param to save\n",
    "param = {'hphy','uphy','vphy','taux','tauy','uparam','vparam'}\n",
    "print('data directory:',datadir)\n"
   ]
  },
  {
   "cell_type": "markdown",
   "metadata": {},
   "source": [
    "## Option in allsets\n",
    "### Mandatory:\n",
    "- `'suf'`: suffix of the simu filename\n",
    "- `'type'`: prefix of the simul filename (defined the type of set train/test/valid\n",
    "- `'rst'`: restart file to initialize the model (generate by `restart` script)\n",
    "\n",
    "### Optional:\n",
    "-  `'saverst'`: save a restart file at the end of the simu\n",
    "-  `'endtime'`: change the default value for the end of the simu\n",
    "-  `'freq'`: change the default frequency of save\n",
    "- `'warg'`: specify forcing args in the SW model "
   ]
  },
  {
   "cell_type": "code",
   "execution_count": null,
   "metadata": {},
   "outputs": [],
   "source": [
    "## Specifiy types of dataset to run\n",
    "\n",
    "warg0 = {'sigx':0.1} #a example of forcing arg\n",
    "warg1 = {'sigx':0.1,'arx':0.6,'convx':5}\n",
    "\n",
    "#restartfile for app\n",
    "rstfile = os.path.join(datadir,'restart_10years.nc')\n",
    "\n",
    "#restartfile for test\n",
    "rstfile_test = os.path.join(datadir,'restart_test.nc')\n",
    "\n",
    "##############################################################\n",
    "# SPECIFY THE TYPE OF DATASET TO BE GENEREATED (SEE ABOVE)   #\n",
    "##############################################################\n",
    "allsets = {0:{'suf':'std','type':'train','rst':rstfile,'saverst':rstfile_test},\n",
    "           1:{'suf':'windvar','type':'test','endtime':48*30*12*10,'warg':warg0,'rst':rstfile_test},\n",
    "           2:{'suf':'warsmooth','type':'test','endtime':48*30*12*10,'warg':warg1,'rst':rstfile_test},\n",
    "           3:{'suf':'std','type':'test','endtime':48*30*12*10,'rst':rstfile_test}}\n",
    "\n",
    "selected = 0 #to be change to create more sets\n",
    "###############################################################\n",
    "           \n",
    "dset = allsets[selected]\n",
    "\n",
    "#filename\n",
    "fname = os.path.join(datadir,dset['type']+'_dataset_'+dset['suf']+'.nc')\n",
    "\n",
    "print('filename:',fname)"
   ]
  },
  {
   "cell_type": "code",
   "execution_count": null,
   "metadata": {
    "collapsed": true
   },
   "outputs": [],
   "source": [
    "## redefine some options\n",
    "if 'endtime' in dset:\n",
    "    endtime = dset['endtime']\n",
    "if 'freq' in dset:\n",
    "    freq = dset['freq']\n",
    "if 'nseq' in dset:\n",
    "    nseq = dset['nseq']\n",
    "if 'warg' in dset:\n",
    "    warg = dset['warg']\n",
    "else:\n",
    "    warg = dict()"
   ]
  },
  {
   "cell_type": "code",
   "execution_count": null,
   "metadata": {
    "collapsed": true
   },
   "outputs": [],
   "source": [
    "## Init model for training set\n",
    "SW = SWmodel(nx=80,ny=80,warg=warg)\n",
    "SW.inistate_rst(dset['rst'])\n",
    "SW.set_time(0)\n",
    "\n",
    "#time\n",
    "time = TimeSeq(endtime=endtime,freq=freq,start=0,nseq=nseq)\n",
    "\n",
    "#Save every freq\n",
    "SW.save(time=time,name=fname,para=param)"
   ]
  },
  {
   "cell_type": "code",
   "execution_count": null,
   "metadata": {},
   "outputs": [],
   "source": [
    "# run the model for training set\n",
    "for i in tqdm(range(endtime)):\n",
    "    SW.next()"
   ]
  },
  {
   "cell_type": "code",
   "execution_count": null,
   "metadata": {
    "collapsed": true
   },
   "outputs": [],
   "source": [
    "# Save the restart for test set\n",
    "if 'saverst' in dset:\n",
    "    SW.save_rst(dset['saverst'])\n"
   ]
  },
  {
   "cell_type": "code",
   "execution_count": null,
   "metadata": {},
   "outputs": [],
   "source": [
    "## Plots conservative quantities for training set\n",
    "if PLOT:\n",
    "    import neuralsw.model.modeltools as model\n",
    "\n",
    "    ds = xr.open_dataset(fname)\n",
    "\n",
    "    fig,ax = plt.subplots(nrows=3,sharex=True)\n",
    "    Ec = model.cinetic_ener(ds=ds)\n",
    "    Ep = model.potential_ener(ds=ds)\n",
    "    Pv = model.potential_vor(ds=ds)\n",
    "    Ec.plot(ax=ax[0])\n",
    "    Ep.plot(ax=ax[1])\n",
    "    Pv.plot(ax=ax[2])\n",
    "    ax[0].set_title('mean kinetic energy')\n",
    "    ax[0].set_ylabel('Ec')\n",
    "    ax[0].set_xlabel('')\n",
    "    ax[1].set_title('mean potential energy')\n",
    "    ax[1].set_ylabel('Ep')\n",
    "    ax[1].set_xlabel('')\n",
    "    ax[2].set_title('mean potential vorticity')\n",
    "    ax[2].set_ylabel('Pv')\n",
    "    plt.show()\n",
    "    print ('Mean value of Ec: {0:3.2e}'.format(float(Ec.mean())))\n",
    "    print ('Mean value of Ep: {0:3.2e}'.format(float(Ep.mean())))\n",
    "    print ('Mean value of Pv: {0:3.2e}'.format(float(Pv.mean())))"
   ]
  },
  {
   "cell_type": "code",
   "execution_count": null,
   "metadata": {},
   "outputs": [],
   "source": [
    "## Plots mean states for training\n",
    "if PLOT:\n",
    "    ds = xr.open_dataset(fname)\n",
    "\n",
    "    fig,ax = plt.subplots(nrows=3,sharex=True)\n",
    "    ds['hphy'].mean(dim='time').plot(ax=ax[0])\n",
    "    ds['uphy'].mean(dim='time').plot(ax=ax[1])\n",
    "    ds['vphy'].mean(dim='time').plot(ax=ax[2])\n",
    "\n",
    "    plt.show()\n",
    "    \n",
    "    fig,ax = plt.subplots(nrows=3,sharex=True)\n",
    "    ds['hphy'].std(dim='time').plot(ax=ax[0])\n",
    "    ds['uphy'].std(dim='time').plot(ax=ax[1])\n",
    "    ds['vphy'].std(dim='time').plot(ax=ax[2])\n",
    "\n",
    "    plt.show()\n",
    "    \n",
    "    "
   ]
  },
  {
   "cell_type": "code",
   "execution_count": null,
   "metadata": {
    "collapsed": true
   },
   "outputs": [],
   "source": []
  }
 ],
 "metadata": {
  "kernelspec": {
   "display_name": "Python 3",
   "language": "python",
   "name": "python3"
  },
  "language_info": {
   "codemirror_mode": {
    "name": "ipython",
    "version": 3
   },
   "file_extension": ".py",
   "mimetype": "text/x-python",
   "name": "python",
   "nbconvert_exporter": "python",
   "pygments_lexer": "ipython3",
   "version": "3.5.4"
  }
 },
 "nbformat": 4,
 "nbformat_minor": 2
}
