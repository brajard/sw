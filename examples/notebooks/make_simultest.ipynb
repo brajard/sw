{
 "cells": [
  {
   "cell_type": "markdown",
   "metadata": {},
   "source": [
    "# Script to compare nn simu with reference simu\n",
    "This script run the model with an NN and a reference simu"
   ]
  },
  {
   "cell_type": "code",
   "execution_count": null,
   "metadata": {
    "scrolled": false
   },
   "outputs": [],
   "source": [
    "## Import package\n",
    "from neuralsw.model.shalw import SWmodel\n",
    "from neuralsw.model.datatools import TimeSeq \n",
    "from neuralsw.model.shalwnet import SWparnnim\n",
    "import neuralsw\n",
    "import numpy as np\n",
    "import xarray as xr\n",
    "import os\n",
    "from os.path import join\n",
    "import glob\n",
    "from tqdm import tqdm\n",
    "import matplotlib.pyplot as plt\n",
    "from scipy.stats import ttest_rel\n",
    "%matplotlib notebook\n"
   ]
  },
  {
   "cell_type": "code",
   "execution_count": null,
   "metadata": {},
   "outputs": [],
   "source": [
    "## Specify the output\n",
    "PLOT = True #if plot is wanted\n",
    "\n",
    "#rootdir\n",
    "rootdir = os.path.realpath(\\\n",
    "\tos.path.join(os.getcwd(),'../..'))\n",
    "\n",
    "#directory to store the data\n",
    "datadir = os.path.realpath(os.path.join(rootdir,'data'))\n",
    "\n",
    "#Duration of the integration\n",
    "endtime = 48*30*12*10 #10 years (can be override by option in allsets)\n",
    "\n",
    "#save frequency\n",
    "freq = 48*30 #each month (can be overrieded by option in allsets)\n",
    "\n",
    "#number of successive time steps to save at a given time\n",
    "nseq = 1\n",
    "\n",
    "#param to save\n",
    "param = {'hphy','uphy','vphy','taux','tauy','uparam','vparam'}\n",
    "print('data directory:',datadir)\n"
   ]
  },
  {
   "cell_type": "markdown",
   "metadata": {},
   "source": [
    "## Option in allsets\n",
    "### Mandatory:\n",
    "- `'suf'`: suffix of the simu filename\n",
    "- `'type'`: prefix of the simul filename (defined the type of set train/test/valid\n",
    "- `'rst'`: restart file to initialize the model (generate by `restart` script)\n",
    "\n",
    "### Optional:\n",
    "-  `'saverst'`: save a restart file at the end of the simu\n",
    "-  `'endtime'`: change the default value for the end of the simu\n",
    "-  `'freq'`: change the default frequency of save\n",
    "- `'warg'`: specify forcing args in the SW model "
   ]
  },
  {
   "cell_type": "code",
   "execution_count": null,
   "metadata": {},
   "outputs": [],
   "source": [
    "## Specifiy types of dataset to run\n",
    "\n",
    "warg0 = {'sigx':0.1} #a example of forcing arg\n",
    "warg1 = {'sigx':0.1,'arx':0.6,'convx':5}\n",
    "warg2 = {'taux0':0.1}\n",
    "\n",
    "#restartfile for app\n",
    "rstfile = os.path.join(datadir,'restart_10years.nc')\n",
    "\n",
    "#restartfile for test\n",
    "rstfile_test = os.path.join(datadir,'restart_test.nc')\n",
    "\n",
    "#restarfile for low wind\n",
    "rstfile_low = os.path.join(datadir,'restart_10years_low.nc')\n",
    "\n",
    "##############################################################\n",
    "# SPECIFY THE TYPE OF DATASET TO BE GENEREATED (SEE ABOVE)   #\n",
    "##############################################################\n",
    "allsets = {0:{'suf':'std','rst':rstfile,},\n",
    "           1:{'suf':'windvar','endtime':48*30*12*10,'warg':warg0,'rst':rstfile_test},\n",
    "           2:{'suf':'warsmooth','endtime':48*30*12*10,'warg':warg1,'rst':rstfile_test},\n",
    "           3:{'suf':'std','endtime':48*30*12*10,'rst':rstfile_test},\n",
    "           4:{'suf':'windlow','endtime':48*30*12*10,'warg':warg2,'rst':rstfile_low}}\n",
    "\n",
    "selected = 4 #to be change to create more sets\n",
    "###############################################################\n",
    "           \n",
    "dset = allsets[selected]\n",
    "\n"
   ]
  },
  {
   "cell_type": "code",
   "execution_count": null,
   "metadata": {},
   "outputs": [],
   "source": [
    "## Define the neural net\n",
    "\n",
    "#For u\n",
    "nnid = '0'\n",
    "oparam = 'uparam'\n",
    "#noise = 'nonoise'\n",
    "noise = 'noise01'\n",
    "wtype = 'std'\n",
    "uname = '_'.join(['nn'+nnid,oparam,noise,wtype])\n",
    "\n",
    "#For v (change only parameters that are different)\n",
    "oparam = 'vparam'\n",
    "vname = '_'.join(['nn'+nnid,oparam,noise,wtype])\n",
    "\n",
    "nnufile = glob.glob(join(datadir,uname,'*.pkl'))[0]\n",
    "nnvfile = glob.glob(join(datadir,vname,'*.pkl'))[0]\n",
    "\n",
    "print('uparam network:',nnufile)\n",
    "print('vparam network:',nnvfile)"
   ]
  },
  {
   "cell_type": "code",
   "execution_count": null,
   "metadata": {},
   "outputs": [],
   "source": [
    "## redefine some options\n",
    "if 'endtime' in dset:\n",
    "    endtime = dset['endtime']\n",
    "if 'freq' in dset:\n",
    "    freq = dset['freq']\n",
    "if 'nseq' in dset:\n",
    "    nseq = dset['nseq']\n",
    "if 'warg' in dset:\n",
    "    warg = dset['warg']\n",
    "else:\n",
    "    warg = dict()    "
   ]
  },
  {
   "cell_type": "code",
   "execution_count": null,
   "metadata": {},
   "outputs": [],
   "source": [
    "#define output filenames\n",
    "#filename\n",
    "fnameroot = os.path.join(datadir,'run_'+ noise + '_' +dset['suf'])\n",
    "\n",
    "\n",
    "print('filename:',fnameroot)\n",
    "fname_00 = fnameroot+'_00.nc'\n",
    "fname_nn = fnameroot+'_nn.nc'\n"
   ]
  },
  {
   "cell_type": "code",
   "execution_count": null,
   "metadata": {},
   "outputs": [],
   "source": [
    "## Init model for simul\n",
    "SW0 = SWmodel(nx=80,ny=80,warg=warg)\n",
    "SW0.inistate_rst(dset['rst'])\n",
    "SW0.set_time(0)\n",
    "\n",
    "SW = SWparnnim(nnupar=nnufile,nnvpar=nnvfile,warg=warg,nx=80,ny=80)\n",
    "SW.inistate_rst(dset['rst'])\n",
    "SW.set_time(0)\n",
    "\n",
    "#time\n",
    "time = TimeSeq(endtime=endtime,freq=freq,start=0,nseq=nseq)\n",
    "\n",
    "#Save every freq\n",
    "if os.path.isfile(fname_00):\n",
    "    os.remove(fname_00)\n",
    "if os.path.isfile(fname_nn):\n",
    "    os.remove(fname_nn)\n",
    "SW0.save(time=time,name=fname_00,para=param)\n",
    "SW.save(time=time,name=fname_nn,para=param)\n"
   ]
  },
  {
   "cell_type": "code",
   "execution_count": null,
   "metadata": {},
   "outputs": [],
   "source": [
    "# run the model for training set\n",
    "for i in tqdm(range(endtime)):\n",
    "    SW0.next()\n",
    "    SW.next()"
   ]
  },
  {
   "cell_type": "code",
   "execution_count": null,
   "metadata": {},
   "outputs": [],
   "source": [
    "# Save the restart for test set\n",
    "if 'saverst' in dset:\n",
    "    SW.save_rst(dset['saverst'])\n"
   ]
  },
  {
   "cell_type": "code",
   "execution_count": null,
   "metadata": {},
   "outputs": [],
   "source": [
    "## Plots conservative quantities for training set\n",
    "if PLOT:\n",
    "    import neuralsw.model.modeltools as model\n",
    "\n",
    "    ds0 = xr.open_dataset(fname_00)\n",
    "    dsn = xr.open_dataset(fname_nn)\n",
    "\n",
    "    fig,ax = plt.subplots(nrows=3,sharex=True)\n",
    "    Ec0 = model.cinetic_ener(ds=ds0)\n",
    "    Ep0 = model.potential_ener(ds=ds0)\n",
    "    Pv0 = model.potential_vor(ds=ds0)\n",
    "    Ecn = model.cinetic_ener(ds=dsn)\n",
    "    Epn = model.potential_ener(ds=dsn)\n",
    "    Pvn = model.potential_vor(ds=dsn)\n",
    "    Ec0.plot(ax=ax[0],label='physical based')\n",
    "    Ep0.plot(ax=ax[1],label='physical based')\n",
    "    Pv0.plot(ax=ax[2],label='physical based')\n",
    "    Ecn.plot(ax=ax[0],label='nn based')\n",
    "    Epn.plot(ax=ax[1],label='nn based')\n",
    "    Pvn.plot(ax=ax[2],label='nn based')\n",
    "    ax[0].set_title('mean kinetic energy')\n",
    "    ax[0].set_ylabel('Ec')\n",
    "    ax[0].set_xlabel('')\n",
    "    ax[0].legend()\n",
    "    ax[1].set_title('mean potential energy')\n",
    "    ax[1].set_ylabel('Ep')\n",
    "    ax[1].set_xlabel('')\n",
    "    ax[1].legend()\n",
    "    ax[2].set_title('mean potential vorticity')\n",
    "    ax[2].set_ylabel('Pv')\n",
    "    ax[2].legend()\n",
    "    plt.show()\n",
    "    _,pval_Ec = ttest_rel(Ec0,Ecn)\n",
    "    _,pval_Ep = ttest_rel(Ep0,Epn)\n",
    "    _,pval_PV = ttest_rel(Pv0,Pvn)\n",
    "\n",
    "    print ('Mean value of Ec (phys/nn): {0:3.2e}/{1:3.2e} (pval={2:3.2e})'.format(float(Ec0.mean()),\n",
    "                                                                                  float(Ecn.mean()),\n",
    "                                                                                 pval_Ec))\n",
    "    print ('Mean value of Ep (phys/nn): {0:3.2e}/{1:3.2e} (pval={2:3.2e})'.format(float(Ep0.mean()),\n",
    "                                                                                  float(Epn.mean()),\n",
    "                                                                                 pval_Ep))\n",
    "    print ('Mean value of Pv (phys/nn): {0:3.2e}/{1:3.2e} (pval={2:3.2e})'.format(float(Pv0.mean()),\n",
    "                                                                                  float(Pvn.mean()),\n",
    "                                                                                 pval_PV))"
   ]
  },
  {
   "cell_type": "code",
   "execution_count": null,
   "metadata": {},
   "outputs": [],
   "source": [
    "## Plots mean states for training\n",
    "if PLOT:\n",
    "    #fname_00  ='/net/argos/data/parvati/jbrlod/jbrlod/these/postdoc/collaborations/bigdata/sw/data/run_std_00.nc'\n",
    "    #fname_nn  = '/net/argos/data/parvati/jbrlod/jbrlod/these/postdoc/collaborations/bigdata/sw/data/run_warsmooth_00.nc'\n",
    "    \n",
    "    ds0 = xr.open_dataset(fname_00)\n",
    "    dsn = xr.open_dataset(fname_nn)\n",
    "    \n",
    "    fig,ax = plt.subplots(nrows=3,sharex=True)\n",
    "    ds0['hphy'].mean(dim='time').plot(ax=ax[0])\n",
    "    ds0['uphy'].mean(dim='time').plot(ax=ax[1])\n",
    "    ds0['vphy'].mean(dim='time').plot(ax=ax[2])\n",
    "\n",
    "    plt.show()\n",
    "    \n",
    "    fig,ax = plt.subplots(nrows=3,sharex=True)\n",
    "    ds0['hphy'].std(dim='time').plot(ax=ax[0])\n",
    "    ds0['uphy'].std(dim='time').plot(ax=ax[1])\n",
    "    ds0['vphy'].std(dim='time').plot(ax=ax[2])\n",
    "\n",
    "    plt.show()\n",
    "    \n",
    "    "
   ]
  },
  {
   "cell_type": "code",
   "execution_count": null,
   "metadata": {},
   "outputs": [],
   "source": [
    "umax0 = model.aumax(ds0)\n",
    "umaxn = model.aumax(dsn)\n",
    "fig,ax = plt.subplots()\n",
    "umax0.plot(ax=ax,label='physical based')\n",
    "umaxn.plot(ax=ax,label='nn based')\n",
    "plt.show()\n",
    "_,pval = ttest_rel(umax0,umaxn)\n",
    "pval"
   ]
  },
  {
   "cell_type": "code",
   "execution_count": null,
   "metadata": {},
   "outputs": [],
   "source": [
    "dsn.taux[2].plot()"
   ]
  }
 ],
 "metadata": {
  "kernelspec": {
   "display_name": "Python 3",
   "language": "python",
   "name": "python3"
  },
  "language_info": {
   "codemirror_mode": {
    "name": "ipython",
    "version": 3
   },
   "file_extension": ".py",
   "mimetype": "text/x-python",
   "name": "python",
   "nbconvert_exporter": "python",
   "pygments_lexer": "ipython3",
   "version": "3.5.4"
  }
 },
 "nbformat": 4,
 "nbformat_minor": 2
}
