{
 "cells": [
  {
   "cell_type": "markdown",
   "metadata": {},
   "source": [
    "## Script to train a neural network\n",
    "\n",
    "This script run the training of a neural networks.\n",
    "For long training, it is advised to used this script as a python script, not the notebook"
   ]
  },
  {
   "cell_type": "code",
   "execution_count": null,
   "metadata": {},
   "outputs": [],
   "source": [
    "import numpy as np\n",
    "import os\n",
    "from os.path import join,isdir\n",
    "from sklearn.model_selection import train_test_split\n",
    "from keras.models import Sequential\n",
    "from keras.layers import Dense, Dropout, Flatten\n",
    "from keras.layers import Conv2D, MaxPooling2D\n",
    "from neuralsw.model.modeltools import mymodel,loadmymodel\n",
    "from keras import regularizers\n",
    "from keras.optimizers import SGD\n",
    "import glob\n",
    "import warnings\n",
    "import matplotlib.pyplot as plt"
   ]
  },
  {
   "cell_type": "code",
   "execution_count": null,
   "metadata": {
    "collapsed": true
   },
   "outputs": [],
   "source": [
    "# Initialize parameters\n",
    "PLOT = True\n",
    "SAVE = True #to save plots\n",
    "#rootdir\n",
    "rootdir = os.path.realpath(\\\n",
    "    os.path.join(os.getcwd(),'../..'))\n",
    "\n",
    "#directory to store the data\n",
    "datadir = os.path.realpath(os.path.join(rootdir,'data'))\n",
    "\n",
    "#training directory\n",
    "#traindir = 'train_uparam_nonoise_std'\n",
    "#traindir = 'train_uparam_noise01_std'\n",
    "traindir = 'train_vparam_nonoise_std'\n",
    "#traindir = 'train_vparam_noise01_std'\n",
    "\n",
    "#First guess net\n",
    "#fgnet = None\n",
    "fgnet_id = None\n",
    "\n",
    "#neural net identifier (to personalize the output name)\n",
    "nnid = '0'\n",
    "\n",
    "keywords = traindir.split('_')\n",
    "\n",
    "#param\n",
    "param = keywords[1]\n",
    "\n",
    "#files containing inputs/outputs\n",
    "Xfile = join(datadir,traindir,'data_X.npy')\n",
    "yfile = join(datadir,traindir,'data_y.npy')\n",
    "\n",
    "#input name\n",
    "if fgnet_id is not None:\n",
    "    fgnet = '_'.join(['nn'+fgnet_id,param,keywords[2],keywords[3]])\n",
    "\n",
    "    #Raise warnings if there are some issues with the selected names\n",
    "    if not os.path.isdir(join(datadir,fgnet)):\n",
    "        warnings.warn(join(datadir,fgnet) +' does not exist')\n",
    "    print('first guess neural net:',fgnet)\n",
    "\n",
    "    if fgnet_id == nnid:\n",
    "        warnings.warn ('first guess and output have the same id')\n",
    "\n",
    "#output name\n",
    "netname = '_'.join(['nn'+nnid,param,keywords[2],keywords[3]])\n",
    "print('output name of the neural net:',netname)\n"
   ]
  },
  {
   "cell_type": "code",
   "execution_count": null,
   "metadata": {
    "collapsed": true
   },
   "outputs": [],
   "source": [
    "## Load the data\n",
    "X = np.load(Xfile)\n",
    "y = np.load(yfile)\n",
    "nt,ny,nx,npar = X.shape\n",
    "\n"
   ]
  },
  {
   "cell_type": "code",
   "execution_count": null,
   "metadata": {
    "collapsed": true
   },
   "outputs": [],
   "source": [
    "## Define the nn model\n",
    "if fgnet_id is not None:\n",
    "    pklfile=glob.glob(join(datadir,fgnet,'*.pkl'))[0]\n",
    "    nn = loadmymodel(pklfile)\n",
    "else:\n",
    "    model = Sequential()\n",
    "    model.add(Conv2D(32, (3, 3), activation='relu',\n",
    "              padding='same',\n",
    "              #kernel_regularizer=regularizers.l1(0.001),\n",
    "              input_shape=(ny, nx, npar)))\n",
    "    #model.add(Dropout(0.2))\n",
    "    model.add(Conv2D(1, (1, 1), activation='linear'))\n",
    "    model.compile(loss='mean_squared_error', optimizer='adam')\n",
    "\n",
    "    #normalization\n",
    "    moy = np.zeros(npar)\n",
    "    et = np.zeros(npar)\n",
    "    for j in range(npar):\n",
    "            moy[j] = np.mean(X[:,:,:,j].ravel())\n",
    "            et[j] = np.std(X[:,:,:,j].ravel())\n",
    "          \n",
    "    moy_y = np.mean(y.ravel())\n",
    "    et_y = np.std(y.ravel())\n",
    "        \n",
    "    nn = mymodel(model,moyX=moy,etX=et,moyY=moy_y,etY=et_y)\n",
    "\n",
    "\n"
   ]
  },
  {
   "cell_type": "code",
   "execution_count": null,
   "metadata": {
    "collapsed": true
   },
   "outputs": [],
   "source": [
    "## Training\n",
    "nn.fit(X, y, epochs=200, batch_size=1,validation_split=0.1)"
   ]
  },
  {
   "cell_type": "code",
   "execution_count": null,
   "metadata": {
    "collapsed": true
   },
   "outputs": [],
   "source": [
    "## Save the neural net\n",
    "if not isdir(join(datadir, netname)):\n",
    "    os.mkdir(join(datadir, netname))\n",
    "nn.save(join(datadir,netname,'model_'+param+'.pkl'))\n"
   ]
  },
  {
   "cell_type": "code",
   "execution_count": null,
   "metadata": {
    "collapsed": true
   },
   "outputs": [],
   "source": [
    "## Plots and save\n",
    "if PLOT:\n",
    "    #plot history\n",
    "    plt.semilogy(nn._history['loss'], color='gray',label='train')\n",
    "    plt.semilogy(nn._history['val_loss'], color='black',label='test')\n",
    "    plt.legend()\n",
    "    if SAVE:\n",
    "        plt.savefig(join(datadir, netname, 'history.png'))\n",
    "    plt.show()\n",
    "    "
   ]
  },
  {
   "cell_type": "code",
   "execution_count": null,
   "metadata": {
    "collapsed": true
   },
   "outputs": [],
   "source": [
    "## a small scatter plot to check\n",
    "mini = min(y.ravel())\n",
    "maxi = max(y.ravel())\n",
    "\n",
    "y_predict = nn.predict(X)\n",
    "plt.plot(y.ravel(),y_predict.ravel(),'.k')\n",
    "plt.plot([mini,maxi],[mini,maxi],'r-')\n",
    "plt.xlabel(param + ' true')\n",
    "plt.ylabel(param + ' nn')\n",
    "plt.show()"
   ]
  },
  {
   "cell_type": "code",
   "execution_count": null,
   "metadata": {
    "collapsed": true
   },
   "outputs": [],
   "source": []
  }
 ],
 "metadata": {
  "kernelspec": {
   "display_name": "Python 3",
   "language": "python",
   "name": "python3"
  },
  "language_info": {
   "codemirror_mode": {
    "name": "ipython",
    "version": 3
   },
   "file_extension": ".py",
   "mimetype": "text/x-python",
   "name": "python",
   "nbconvert_exporter": "python",
   "pygments_lexer": "ipython3",
   "version": "3.5.2"
  }
 },
 "nbformat": 4,
 "nbformat_minor": 2
}
