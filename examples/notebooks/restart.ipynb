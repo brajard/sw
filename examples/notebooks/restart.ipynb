{
 "cells": [
  {
   "cell_type": "markdown",
   "metadata": {},
   "source": [
    "# Script to run a restart\n",
    "This script run the model from a rest state during 10 years in order to produce a restart start."
   ]
  },
  {
   "cell_type": "code",
   "execution_count": null,
   "metadata": {},
   "outputs": [],
   "source": [
    "## Import package\n",
    "from neuralsw.model.shalw import SWmodel\n",
    "import neuralsw\n",
    "import numpy as np\n",
    "import xarray as xr\n",
    "import os\n",
    "from tqdm import tqdm\n",
    "import matplotlib.pyplot as plt\n",
    "%matplotlib notebook\n"
   ]
  },
  {
   "cell_type": "code",
   "execution_count": null,
   "metadata": {},
   "outputs": [],
   "source": [
    "## Specify the output\n",
    "PLOT = True #if plot is wanted\n",
    "\n",
    "#rootdir\n",
    "rootdir = os.path.realpath(\\\n",
    "\tos.path.join(os.getcwd(),'../..'))\n",
    "\n",
    "#directory to store the data\n",
    "datadir = os.path.realpath(os.path.join(rootdir,'data'))\n",
    "\n",
    "#suffix (modify default parameters if not empty)\n",
    "suf = '_low'\n",
    "\n",
    "#savefile (to check the run)\n",
    "outname = os.path.join(datadir,'restartrun'+ suf + '.nc')\n",
    "\n",
    "#restartfile\n",
    "\n",
    "rstfile = os.path.join(datadir,'restart_10years'+ suf +'.nc')\n",
    "\n",
    "#Duration of the integration\n",
    "endtime = 48*30*12*10 #10 years\n",
    "\n",
    "print('data directory:',datadir)\n"
   ]
  },
  {
   "cell_type": "code",
   "execution_count": null,
   "metadata": {},
   "outputs": [],
   "source": [
    "## Init model\n",
    "if 'low' in rstfile:\n",
    "    SW = SWmodel(nx=80,ny=80,warg={'taux0':0.1})\n",
    "else:\n",
    "    SW = SWmodel(nx=80,ny=80)\n",
    "SW.initstate_cst(0,0,0)\n",
    "\n",
    "\n",
    "#Save every month\n",
    "SW.save(time=np.arange(0,endtime,48*30),name=outname)"
   ]
  },
  {
   "cell_type": "code",
   "execution_count": null,
   "metadata": {},
   "outputs": [],
   "source": [
    "# run the model\n",
    "for i in tqdm(range(endtime)):\n",
    "    SW.next()"
   ]
  },
  {
   "cell_type": "code",
   "execution_count": null,
   "metadata": {},
   "outputs": [],
   "source": [
    "# Save the restart\n",
    "SW.save_rst(rstfile)\n"
   ]
  },
  {
   "cell_type": "code",
   "execution_count": null,
   "metadata": {},
   "outputs": [],
   "source": [
    "## Plots conservative quantities\n",
    "if PLOT:\n",
    "    ## For some unresolved reasons , the keras modul (included in model) should not be called before dealing with nc files\n",
    "    import neuralsw.model.modeltools as model\n",
    "    \n",
    "    ds = xr.open_dataset(outname)\n",
    "\n",
    "    fig,ax = plt.subplots(nrows=3,sharex=True)\n",
    "    Ec = model.cinetic_ener(ds=ds)\n",
    "    Ep = model.potential_ener(ds=ds)\n",
    "    Pv = model.potential_vor(ds=ds)\n",
    "    Ec.plot(ax=ax[0])\n",
    "    Ep.plot(ax=ax[1])\n",
    "    Pv.plot(ax=ax[2])\n",
    "    ax[0].set_title('mean kinetic energy')\n",
    "    ax[0].set_ylabel('Ec')\n",
    "    ax[0].set_xlabel('')\n",
    "    ax[1].set_title('mean potential energy')\n",
    "    ax[1].set_ylabel('Ep')\n",
    "    ax[1].set_xlabel('')\n",
    "    ax[2].set_title('mean potential vorticity')\n",
    "    ax[2].set_ylabel('Pv')\n",
    "    plt.show()"
   ]
  },
  {
   "cell_type": "code",
   "execution_count": null,
   "metadata": {},
   "outputs": [],
   "source": []
  }
 ],
 "metadata": {
  "kernelspec": {
   "display_name": "Python 3",
   "language": "python",
   "name": "python3"
  },
  "language_info": {
   "codemirror_mode": {
    "name": "ipython",
    "version": 3
   },
   "file_extension": ".py",
   "mimetype": "text/x-python",
   "name": "python",
   "nbconvert_exporter": "python",
   "pygments_lexer": "ipython3",
   "version": "3.5.4"
  }
 },
 "nbformat": 4,
 "nbformat_minor": 2
}
